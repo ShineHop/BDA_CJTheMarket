{
 "cells": [
  {
   "cell_type": "code",
   "execution_count": 65,
   "id": "cffe31bb",
   "metadata": {},
   "outputs": [],
   "source": [
    "import numpy as np\n",
    "import pandas as pd\n",
    "from sklearn.model_selection import train_test_split\n",
    "from xgboost import XGBClassifier\n",
    "from sklearn.metrics import accuracy_score, precision_score, recall_score, confusion_matrix, f1_score\n",
    "from sklearn.metrics import classification_report\n",
    "from sklearn.model_selection import GridSearchCV"
   ]
  },
  {
   "cell_type": "markdown",
   "id": "b405014e",
   "metadata": {},
   "source": [
    "최대 카테고리 or 개수 or 속한 카테고리\n",
    "- 최대 카테고리 : cate1\n",
    "- 개수 : cate2\n",
    "- 속한 카테고리 : cate3"
   ]
  },
  {
   "cell_type": "markdown",
   "id": "b89a863e",
   "metadata": {},
   "source": [
    "## Cate1"
   ]
  },
  {
   "cell_type": "code",
   "execution_count": 83,
   "id": "98bfd6db",
   "metadata": {},
   "outputs": [],
   "source": [
    "cate1 = pd.read_csv('cj_cate1.csv')"
   ]
  },
  {
   "cell_type": "code",
   "execution_count": 84,
   "id": "b1a4f5c1",
   "metadata": {},
   "outputs": [],
   "source": [
    "cate1_Y = cate1[cate1['employee_yn']=='Y']\n",
    "cate1_Y = cate1_Y.drop(['employee_yn'],axis=1)"
   ]
  },
  {
   "cell_type": "code",
   "execution_count": 85,
   "id": "bd4bad9a",
   "metadata": {},
   "outputs": [],
   "source": [
    "cate1_N = cate1[cate1['employee_yn']=='N']\n",
    "cate1_N = cate1_N.drop(['employee_yn'],axis=1)"
   ]
  },
  {
   "cell_type": "code",
   "execution_count": 86,
   "id": "dffba7c8",
   "metadata": {},
   "outputs": [],
   "source": [
    "# X, y 나누기 'Y'\n",
    "X = cate1_Y.iloc[:, :-1]\n",
    "y = cate1_Y.iloc[:, -1]"
   ]
  },
  {
   "cell_type": "code",
   "execution_count": 100,
   "id": "68e9b748",
   "metadata": {},
   "outputs": [
    {
     "name": "stdout",
     "output_type": "stream",
     "text": [
      "              precision    recall  f1-score   support\n",
      "\n",
      "           0       0.60      0.26      0.36       564\n",
      "           1       0.64      0.89      0.74       850\n",
      "\n",
      "    accuracy                           0.63      1414\n",
      "   macro avg       0.62      0.57      0.55      1414\n",
      "weighted avg       0.62      0.63      0.59      1414\n",
      "\n",
      "정확도: 0.6344, 정밀도: 0.6419, 재현율: 0.8859, F1:0.7444\n",
      "\n",
      "None\n"
     ]
    }
   ],
   "source": [
    "X_train, X_test, y_train, y_test = train_test_split(X, y, test_size=0.3, shuffle=True, random_state=777)\n",
    "\n",
    "model = XGBClassifier(n_estimators = 350, learning_rate = 0.03, max_depth = 3)\n",
    "model.fit(X_train, y_train)\n",
    "y_pred = model.predict(X_test)\n",
    "\n",
    "print(classification_report(y_test, y_pred))\n",
    "print(get_clf_eval(y_test, y_pred))"
   ]
  },
  {
   "cell_type": "code",
   "execution_count": 101,
   "id": "07736246",
   "metadata": {},
   "outputs": [],
   "source": [
    "# X, y 나누기 'N'\n",
    "X = cate1_N.iloc[:, :-1]\n",
    "y = cate1_N.iloc[:, -1]"
   ]
  },
  {
   "cell_type": "code",
   "execution_count": 110,
   "id": "29d56936",
   "metadata": {},
   "outputs": [
    {
     "name": "stdout",
     "output_type": "stream",
     "text": [
      "              precision    recall  f1-score   support\n",
      "\n",
      "           0       0.66      0.81      0.73      1013\n",
      "           1       0.65      0.46      0.54       769\n",
      "\n",
      "    accuracy                           0.66      1782\n",
      "   macro avg       0.66      0.64      0.63      1782\n",
      "weighted avg       0.66      0.66      0.65      1782\n",
      "\n",
      "정확도: 0.6588, 정밀도: 0.6461, 재현율: 0.4629, F1:0.5394\n",
      "\n",
      "None\n"
     ]
    }
   ],
   "source": [
    "X_train, X_test, y_train, y_test = train_test_split(X, y, test_size=0.3, shuffle=True, random_state=777)\n",
    "\n",
    "model = XGBClassifier(n_estimators = 1100, learning_rate = 0.07, max_depth = 3)\n",
    "model.fit(X_train, y_train)\n",
    "y_pred = model.predict(X_test)\n",
    "\n",
    "print(classification_report(y_test, y_pred))\n",
    "print(get_clf_eval(y_test, y_pred))"
   ]
  },
  {
   "cell_type": "markdown",
   "id": "29bef9a0",
   "metadata": {},
   "source": [
    "## Cate2\n",
    "- 임직원 0.7515\n",
    "- 비임직원 0.5629"
   ]
  },
  {
   "cell_type": "code",
   "execution_count": 111,
   "id": "b5c23a3a",
   "metadata": {},
   "outputs": [],
   "source": [
    "cate2 = pd.read_csv('cj_cate2.csv')"
   ]
  },
  {
   "cell_type": "code",
   "execution_count": 112,
   "id": "34c9e7f8",
   "metadata": {},
   "outputs": [],
   "source": [
    "cate2_Y = cate2[cate2['employee_yn']=='Y']\n",
    "cate2_Y = cate2_Y.drop(['employee_yn'],axis=1)"
   ]
  },
  {
   "cell_type": "code",
   "execution_count": 113,
   "id": "f879175b",
   "metadata": {},
   "outputs": [],
   "source": [
    "cate2_N = cate2[cate2['employee_yn']=='N']\n",
    "cate2_N = cate2_N.drop(['employee_yn'],axis=1)"
   ]
  },
  {
   "cell_type": "code",
   "execution_count": 286,
   "id": "875af92d",
   "metadata": {},
   "outputs": [],
   "source": [
    "# X, y 나누기 'Y'\n",
    "X = cate2_Y.iloc[:, :-1]\n",
    "y = cate2_Y.iloc[:, -1]"
   ]
  },
  {
   "cell_type": "code",
   "execution_count": 300,
   "id": "cd3ca54f",
   "metadata": {},
   "outputs": [
    {
     "name": "stdout",
     "output_type": "stream",
     "text": [
      "              precision    recall  f1-score   support\n",
      "\n",
      "           0       0.63      0.23      0.33       564\n",
      "           1       0.64      0.91      0.75       850\n",
      "\n",
      "    accuracy                           0.64      1414\n",
      "   macro avg       0.63      0.57      0.54      1414\n",
      "weighted avg       0.63      0.64      0.58      1414\n",
      "\n",
      "정확도: 0.6379, 정밀도: 0.6397, 재현율: 0.9106, F1:0.7515\n",
      "\n",
      "None\n"
     ]
    }
   ],
   "source": [
    "X_train, X_test, y_train, y_test = train_test_split(X, y, test_size=0.3, shuffle=True, random_state=777)\n",
    "\n",
    "model = XGBClassifier(n_estimators = 750, learning_rate = 0.01, max_depth = 3)\n",
    "model.fit(X_train, y_train)\n",
    "y_pred = model.predict(X_test)\n",
    "\n",
    "print(classification_report(y_test, y_pred))\n",
    "print(get_clf_eval(y_test, y_pred))"
   ]
  },
  {
   "cell_type": "code",
   "execution_count": 270,
   "id": "87868ef4",
   "metadata": {},
   "outputs": [],
   "source": [
    "##### X, y 나누기 'N'\n",
    "X = cate2_N.iloc[:, :-1]\n",
    "y = cate2_N.iloc[:, -1]"
   ]
  },
  {
   "cell_type": "code",
   "execution_count": 283,
   "id": "0d2e0338",
   "metadata": {},
   "outputs": [
    {
     "name": "stdout",
     "output_type": "stream",
     "text": [
      "              precision    recall  f1-score   support\n",
      "\n",
      "           0       0.67      0.76      0.71      1013\n",
      "           1       0.62      0.52      0.56       769\n",
      "\n",
      "    accuracy                           0.65      1782\n",
      "   macro avg       0.65      0.64      0.64      1782\n",
      "weighted avg       0.65      0.65      0.65      1782\n",
      "\n",
      "정확도: 0.6532, 정밀도: 0.6171, 재현율: 0.5176, F1:0.5629\n",
      "\n",
      "None\n"
     ]
    }
   ],
   "source": [
    "X_train, X_test, y_train, y_test = train_test_split(X, y, test_size=0.3, shuffle=True, random_state=777)\n",
    "\n",
    "model = XGBClassifier(n_estimators = 1650, learning_rate = 0.5, max_depth = 2)\n",
    "model.fit(X_train, y_train)\n",
    "y_pred = model.predict(X_test)\n",
    "\n",
    "print(classification_report(y_test, y_pred))\n",
    "print(get_clf_eval(y_test, y_pred))"
   ]
  },
  {
   "cell_type": "markdown",
   "id": "c88155c7",
   "metadata": {},
   "source": [
    "## Cate3"
   ]
  },
  {
   "cell_type": "code",
   "execution_count": 173,
   "id": "7ee9f486",
   "metadata": {},
   "outputs": [],
   "source": [
    "cate3 = pd.read_csv('cj_cate3.csv')"
   ]
  },
  {
   "cell_type": "code",
   "execution_count": 174,
   "id": "28b676a9",
   "metadata": {},
   "outputs": [],
   "source": [
    "cate3_Y = cate3[cate3['employee_yn']=='Y']\n",
    "cate3_Y = cate3_Y.drop(['employee_yn'],axis=1)"
   ]
  },
  {
   "cell_type": "code",
   "execution_count": 175,
   "id": "007b098c",
   "metadata": {},
   "outputs": [],
   "source": [
    "cate3_N = cate3[cate3['employee_yn']=='N']\n",
    "cate3_N = cate3_N.drop(['employee_yn'],axis=1)"
   ]
  },
  {
   "cell_type": "code",
   "execution_count": 176,
   "id": "80631de2",
   "metadata": {},
   "outputs": [],
   "source": [
    "# X, y 나누기 'Y'\n",
    "X = cate3_Y.iloc[:, :-1]\n",
    "y = cate3_Y.iloc[:, -1]"
   ]
  },
  {
   "cell_type": "code",
   "execution_count": 185,
   "id": "80d32256",
   "metadata": {},
   "outputs": [
    {
     "name": "stdout",
     "output_type": "stream",
     "text": [
      "              precision    recall  f1-score   support\n",
      "\n",
      "           0       0.60      0.20      0.29       564\n",
      "           1       0.63      0.91      0.75       850\n",
      "\n",
      "    accuracy                           0.63      1414\n",
      "   macro avg       0.62      0.55      0.52      1414\n",
      "weighted avg       0.62      0.63      0.57      1414\n",
      "\n",
      "정확도: 0.6273, 정밀도: 0.6312, 재현율: 0.9141, F1:0.7468\n",
      "\n",
      "None\n"
     ]
    }
   ],
   "source": [
    "X_train, X_test, y_train, y_test = train_test_split(X, y, test_size=0.3, shuffle=True, random_state=777)\n",
    "\n",
    "model = XGBClassifier(n_estimators = 600, learning_rate = 0.01, max_depth = 3)\n",
    "model.fit(X_train, y_train)\n",
    "y_pred = model.predict(X_test)\n",
    "\n",
    "print(classification_report(y_test, y_pred))\n",
    "print(get_clf_eval(y_test, y_pred))"
   ]
  },
  {
   "cell_type": "code",
   "execution_count": 186,
   "id": "95391f21",
   "metadata": {},
   "outputs": [],
   "source": [
    "# X, y 나누기 'N'\n",
    "X = cate3_N.iloc[:, :-1]\n",
    "y = cate3_N.iloc[:, -1]"
   ]
  },
  {
   "cell_type": "code",
   "execution_count": 197,
   "id": "664dc66d",
   "metadata": {},
   "outputs": [
    {
     "name": "stdout",
     "output_type": "stream",
     "text": [
      "              precision    recall  f1-score   support\n",
      "\n",
      "           0       0.66      0.78      0.72      1013\n",
      "           1       0.62      0.48      0.54       769\n",
      "\n",
      "    accuracy                           0.65      1782\n",
      "   macro avg       0.64      0.63      0.63      1782\n",
      "weighted avg       0.65      0.65      0.64      1782\n",
      "\n",
      "정확도: 0.6493, 정밀도: 0.6220, 재현율: 0.4772, F1:0.5401\n",
      "\n",
      "None\n"
     ]
    }
   ],
   "source": [
    "X_train, X_test, y_train, y_test = train_test_split(X, y, test_size=0.3, shuffle=True, random_state=777)\n",
    "\n",
    "model = XGBClassifier(n_estimators = 1900, learning_rate = 0.08, max_depth = 3)\n",
    "model.fit(X_train, y_train)\n",
    "y_pred = model.predict(X_test)\n",
    "\n",
    "print(classification_report(y_test, y_pred))\n",
    "print(get_clf_eval(y_test, y_pred))"
   ]
  },
  {
   "cell_type": "markdown",
   "id": "c4d01057",
   "metadata": {},
   "source": [
    "아래 가설은 cate1, 2, 3 중 가장 높았던 cate2 데이터셋에 적용"
   ]
  },
  {
   "cell_type": "markdown",
   "id": "88b97099",
   "metadata": {},
   "source": [
    "## 설 연휴 데이터 여부"
   ]
  },
  {
   "cell_type": "code",
   "execution_count": 198,
   "id": "9ce3eac5",
   "metadata": {},
   "outputs": [],
   "source": [
    "cj23 = pd.read_csv('cj_23.csv')"
   ]
  },
  {
   "cell_type": "code",
   "execution_count": 199,
   "id": "76ee72c0",
   "metadata": {},
   "outputs": [],
   "source": [
    "cj23_Y = cj23[cj23['employee_yn']=='Y']\n",
    "cj23_Y = cj23_Y.drop(['employee_yn'],axis=1)"
   ]
  },
  {
   "cell_type": "code",
   "execution_count": 200,
   "id": "4971b095",
   "metadata": {},
   "outputs": [],
   "source": [
    "cj23_N = cj23[cj23['employee_yn']=='N']\n",
    "cj23_N = cj23_N.drop(['employee_yn'],axis=1)"
   ]
  },
  {
   "cell_type": "code",
   "execution_count": 301,
   "id": "c4e8e187",
   "metadata": {},
   "outputs": [],
   "source": [
    "# X, y 나누기 'Y'\n",
    "X = cate3_Y.iloc[:, :-1]\n",
    "y = cate3_Y.iloc[:, -1]"
   ]
  },
  {
   "cell_type": "code",
   "execution_count": 305,
   "id": "d50d5d5c",
   "metadata": {},
   "outputs": [
    {
     "name": "stdout",
     "output_type": "stream",
     "text": [
      "              precision    recall  f1-score   support\n",
      "\n",
      "           0       0.62      0.26      0.36       564\n",
      "           1       0.64      0.89      0.75       850\n",
      "\n",
      "    accuracy                           0.64      1414\n",
      "   macro avg       0.63      0.58      0.56      1414\n",
      "weighted avg       0.63      0.64      0.60      1414\n",
      "\n",
      "정확도: 0.6400, 정밀도: 0.6449, 재현율: 0.8929, F1:0.7489\n",
      "\n",
      "None\n"
     ]
    }
   ],
   "source": [
    "X_train, X_test, y_train, y_test = train_test_split(X, y, test_size=0.3, shuffle=True, random_state=777)\n",
    "\n",
    "model = XGBClassifier(n_estimators = 600, learning_rate = 0.02, max_depth = 3)\n",
    "model.fit(X_train, y_train)\n",
    "y_pred = model.predict(X_test)\n",
    "\n",
    "print(classification_report(y_test, y_pred))\n",
    "print(get_clf_eval(y_test, y_pred))"
   ]
  },
  {
   "cell_type": "code",
   "execution_count": 225,
   "id": "287d3616",
   "metadata": {},
   "outputs": [],
   "source": [
    "# X, y 나누기 'N'\n",
    "X = cate3_N.iloc[:, :-1]\n",
    "y = cate3_N.iloc[:, -1]"
   ]
  },
  {
   "cell_type": "code",
   "execution_count": 242,
   "id": "410f351a",
   "metadata": {},
   "outputs": [
    {
     "name": "stdout",
     "output_type": "stream",
     "text": [
      "              precision    recall  f1-score   support\n",
      "\n",
      "           0       0.66      0.74      0.70      1013\n",
      "           1       0.59      0.50      0.54       769\n",
      "\n",
      "    accuracy                           0.63      1782\n",
      "   macro avg       0.63      0.62      0.62      1782\n",
      "weighted avg       0.63      0.63      0.63      1782\n",
      "\n",
      "정확도: 0.6347, 정밀도: 0.5902, 재현율: 0.5020, F1:0.5425\n",
      "\n",
      "None\n"
     ]
    }
   ],
   "source": [
    "X_train, X_test, y_train, y_test = train_test_split(X, y, test_size=0.3, shuffle=True, random_state=777)\n",
    "\n",
    "model = XGBClassifier(n_estimators = 1900, learning_rate = 0.08, max_depth = 6)\n",
    "model.fit(X_train, y_train)\n",
    "y_pred = model.predict(X_test)\n",
    "\n",
    "print(classification_report(y_test, y_pred))\n",
    "print(get_clf_eval(y_test, y_pred))"
   ]
  },
  {
   "cell_type": "markdown",
   "id": "18f14c16",
   "metadata": {},
   "source": [
    "## Weekday 인코딩"
   ]
  },
  {
   "cell_type": "code",
   "execution_count": 243,
   "id": "aae49962",
   "metadata": {},
   "outputs": [],
   "source": [
    "# 평일/주말 or 월화수목금토일\n",
    "week = pd.read_csv('cj_week.csv')"
   ]
  },
  {
   "cell_type": "code",
   "execution_count": 244,
   "id": "621758e7",
   "metadata": {},
   "outputs": [],
   "source": [
    "week_Y = week[week['employee_yn']=='Y']\n",
    "week_Y = week_Y.drop(['employee_yn'],axis=1)"
   ]
  },
  {
   "cell_type": "code",
   "execution_count": 245,
   "id": "014d2e58",
   "metadata": {},
   "outputs": [],
   "source": [
    "week_N = week[week['employee_yn']=='N']\n",
    "week_N = week_N.drop(['employee_yn'],axis=1)"
   ]
  },
  {
   "cell_type": "code",
   "execution_count": 246,
   "id": "9fbf9f94",
   "metadata": {},
   "outputs": [],
   "source": [
    "# X, y 나누기 'Y'\n",
    "X = week_Y.iloc[:, :-1]\n",
    "y = week_Y.iloc[:, -1]"
   ]
  },
  {
   "cell_type": "code",
   "execution_count": 265,
   "id": "a57549fd",
   "metadata": {},
   "outputs": [
    {
     "name": "stdout",
     "output_type": "stream",
     "text": [
      "              precision    recall  f1-score   support\n",
      "\n",
      "           0       0.60      0.21      0.31       564\n",
      "           1       0.63      0.91      0.75       850\n",
      "\n",
      "    accuracy                           0.63      1414\n",
      "   macro avg       0.62      0.56      0.53      1414\n",
      "weighted avg       0.62      0.63      0.57      1414\n",
      "\n",
      "정확도: 0.6294, 정밀도: 0.6338, 재현율: 0.9082, F1:0.7466\n",
      "\n",
      "None\n"
     ]
    }
   ],
   "source": [
    "X_train, X_test, y_train, y_test = train_test_split(X, y, test_size=0.3, shuffle=True, random_state=777)\n",
    "\n",
    "model = XGBClassifier(n_estimators = 750, learning_rate = 0.01, max_depth = 3)\n",
    "model.fit(X_train, y_train)\n",
    "y_pred = model.predict(X_test)\n",
    "\n",
    "print(classification_report(y_test, y_pred))\n",
    "print(get_clf_eval(y_test, y_pred))"
   ]
  },
  {
   "cell_type": "code",
   "execution_count": 307,
   "id": "8480ba82",
   "metadata": {},
   "outputs": [],
   "source": [
    "# X, y 나누기 'N'\n",
    "X = week_N.iloc[:, :-1]\n",
    "y = week_N.iloc[:, -1]"
   ]
  },
  {
   "cell_type": "code",
   "execution_count": 317,
   "id": "fd00a71f",
   "metadata": {},
   "outputs": [
    {
     "name": "stdout",
     "output_type": "stream",
     "text": [
      "              precision    recall  f1-score   support\n",
      "\n",
      "           0       0.68      0.77      0.72      1013\n",
      "           1       0.63      0.52      0.57       769\n",
      "\n",
      "    accuracy                           0.66      1782\n",
      "   macro avg       0.65      0.64      0.65      1782\n",
      "weighted avg       0.66      0.66      0.66      1782\n",
      "\n",
      "정확도: 0.6611, 정밀도: 0.6295, 재현율: 0.5215, F1:0.5704\n",
      "\n",
      "None\n"
     ]
    }
   ],
   "source": [
    "X_train, X_test, y_train, y_test = train_test_split(X, y, test_size=0.3, shuffle=True, random_state=777)\n",
    "\n",
    "model = XGBClassifier(n_estimators = 1500, learning_rate = 0.5, max_depth = 2)\n",
    "model.fit(X_train, y_train)\n",
    "y_pred = model.predict(X_test)\n",
    "\n",
    "print(classification_report(y_test, y_pred))\n",
    "print(get_clf_eval(y_test, y_pred))"
   ]
  },
  {
   "cell_type": "markdown",
   "id": "7cb65611",
   "metadata": {},
   "source": [
    "이걸 어떻게 설명하지.."
   ]
  },
  {
   "cell_type": "markdown",
   "id": "d7de4807",
   "metadata": {},
   "source": [
    "## 1월 1일-10일 데이터 -> amt/qty 확인"
   ]
  },
  {
   "cell_type": "code",
   "execution_count": 318,
   "id": "693dbde7",
   "metadata": {},
   "outputs": [],
   "source": [
    "event = pd.read_csv('cj_event.csv')"
   ]
  },
  {
   "cell_type": "code",
   "execution_count": 319,
   "id": "a97b35ae",
   "metadata": {},
   "outputs": [],
   "source": [
    "event_Y = event[event['employee_yn']=='Y']\n",
    "event_Y = event_Y.drop(['employee_yn'],axis=1)"
   ]
  },
  {
   "cell_type": "code",
   "execution_count": 320,
   "id": "001c0ccb",
   "metadata": {},
   "outputs": [],
   "source": [
    "event_N = event[event['employee_yn']=='N']\n",
    "event_N = event_N.drop(['employee_yn'],axis=1)"
   ]
  },
  {
   "cell_type": "code",
   "execution_count": 321,
   "id": "3a0256b5",
   "metadata": {},
   "outputs": [
    {
     "data": {
      "image/png": "[encoded data removed]",
      "text/plain": [
       "<Figure size 640x480 with 1 Axes>"
      ]
     },
     "metadata": {},
     "output_type": "display_data"
    }
   ],
   "source": [
    "import seaborn as sns\n",
    "\n",
    "ax = sns.boxplot(data=event_Y, x='event2', y='amt/qty')"
   ]
  },
  {
   "cell_type": "code",
   "execution_count": 322,
   "id": "c9c2909f",
   "metadata": {},
   "outputs": [
    {
     "data": {
      "image/png": "[encoded data removed]",
      "text/plain": [
       "<Figure size 640x480 with 1 Axes>"
      ]
     },
     "metadata": {},
     "output_type": "display_data"
    }
   ],
   "source": [
    "ax = sns.boxplot(data=event_N, x='event2', y='amt/qty')"
   ]
  },
  {
   "cell_type": "code",
   "execution_count": 323,
   "id": "844272f6",
   "metadata": {},
   "outputs": [],
   "source": [
    "# X, y 나누기 'Y'\n",
    "X = event_Y.iloc[:, :-1]\n",
    "y = event_Y.iloc[:, -1]"
   ]
  },
  {
   "cell_type": "code",
   "execution_count": 332,
   "id": "a7de1220",
   "metadata": {},
   "outputs": [
    {
     "name": "stdout",
     "output_type": "stream",
     "text": [
      "              precision    recall  f1-score   support\n",
      "\n",
      "           0       0.63      0.23      0.33       564\n",
      "           1       0.64      0.91      0.75       850\n",
      "\n",
      "    accuracy                           0.64      1414\n",
      "   macro avg       0.63      0.57      0.54      1414\n",
      "weighted avg       0.63      0.64      0.58      1414\n",
      "\n",
      "정확도: 0.6379, 정밀도: 0.6397, 재현율: 0.9106, F1:0.7515\n",
      "\n",
      "None\n"
     ]
    }
   ],
   "source": [
    "X_train, X_test, y_train, y_test = train_test_split(X, y, test_size=0.3, shuffle=True, random_state=777)\n",
    "\n",
    "model = XGBClassifier(n_estimators = 750, learning_rate = 0.01, max_depth = 3)\n",
    "model.fit(X_train, y_train)\n",
    "y_pred = model.predict(X_test)\n",
    "\n",
    "print(classification_report(y_test, y_pred))\n",
    "print(get_clf_eval(y_test, y_pred))"
   ]
  },
  {
   "cell_type": "markdown",
   "id": "03f072c9",
   "metadata": {},
   "source": [
    "같은 값"
   ]
  },
  {
   "cell_type": "code",
   "execution_count": 335,
   "id": "c1728783",
   "metadata": {},
   "outputs": [],
   "source": [
    "# X, y 나누기 'N'\n",
    "X = event_N.iloc[:, :-1]\n",
    "y = event_N.iloc[:, -1]"
   ]
  },
  {
   "cell_type": "code",
   "execution_count": 336,
   "id": "9f908094",
   "metadata": {},
   "outputs": [
    {
     "name": "stdout",
     "output_type": "stream",
     "text": [
      "              precision    recall  f1-score   support\n",
      "\n",
      "           0       0.67      0.76      0.71      1013\n",
      "           1       0.62      0.51      0.56       769\n",
      "\n",
      "    accuracy                           0.65      1782\n",
      "   macro avg       0.65      0.64      0.64      1782\n",
      "weighted avg       0.65      0.65      0.65      1782\n",
      "\n",
      "정확도: 0.6532, 정밀도: 0.6178, 재현율: 0.5150, F1:0.5617\n",
      "\n",
      "None\n"
     ]
    }
   ],
   "source": [
    "X_train, X_test, y_train, y_test = train_test_split(X, y, test_size=0.3, shuffle=True, random_state=777)\n",
    "\n",
    "model = XGBClassifier(n_estimators = 1600, learning_rate = 0.5, max_depth = 2)\n",
    "model.fit(X_train, y_train)\n",
    "y_pred = model.predict(X_test)\n",
    "\n",
    "print(classification_report(y_test, y_pred))\n",
    "print(get_clf_eval(y_test, y_pred))"
   ]
  },
  {
   "cell_type": "code",
   "execution_count": null,
   "id": "e278e79d",
   "metadata": {},
   "outputs": [],
   "source": []
  },
  {
   "cell_type": "code",
   "execution_count": null,
   "id": "f540dc54",
   "metadata": {},
   "outputs": [],
   "source": []
  }
 ],
 "metadata": {
  "kernelspec": {
   "display_name": "Python 3 (ipykernel)",
   "language": "python",
   "name": "python3"
  },
  "language_info": {
   "codemirror_mode": {
    "name": "ipython",
    "version": 3
   },
   "file_extension": ".py",
   "mimetype": "text/x-python",
   "name": "python",
   "nbconvert_exporter": "python",
   "pygments_lexer": "ipython3",
   "version": "3.10.9"
  }
 },
 "nbformat": 4,
 "nbformat_minor": 5
}
